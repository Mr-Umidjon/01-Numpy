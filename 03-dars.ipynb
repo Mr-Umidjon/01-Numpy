{
 "cells": [
  {
   "cell_type": "code",
   "execution_count": 1,
   "metadata": {
    "collapsed": true
   },
   "outputs": [],
   "source": [
    "import numpy as np"
   ]
  },
  {
   "cell_type": "code",
   "execution_count": 2,
   "outputs": [
    {
     "name": "stdout",
     "output_type": "stream",
     "text": [
      "[[1 2]\n",
      " [3 4]]\n"
     ]
    }
   ],
   "source": [
    "np_1 = np.array([1, 2, 3, 4]).reshape(2, 2)\n",
    "\n",
    "print(np_1)"
   ],
   "metadata": {
    "collapsed": false,
    "pycharm": {
     "name": "#%%\n"
    }
   }
  },
  {
   "cell_type": "code",
   "execution_count": 3,
   "outputs": [
    {
     "name": "stdout",
     "output_type": "stream",
     "text": [
      "[[6 7]\n",
      " [8 9]]\n"
     ]
    }
   ],
   "source": [
    "print(np_1 + 5)"
   ],
   "metadata": {
    "collapsed": false,
    "pycharm": {
     "name": "#%%\n"
    }
   }
  },
  {
   "cell_type": "code",
   "execution_count": 4,
   "outputs": [
    {
     "name": "stdout",
     "output_type": "stream",
     "text": [
      "[[7 3 5 7 3 3 5 4 6 2]\n",
      " [3 2 8 6 7 7 2 5 7 6]\n",
      " [7 8 2 5 8 3 5 5 3 8]\n",
      " [1 1 6 4 8 5 6 1 8 1]\n",
      " [8 8 3 6 7 6 7 2 4 8]\n",
      " [5 8 4 4 7 1 2 5 8 2]\n",
      " [6 5 2 7 2 6 4 4 5 3]\n",
      " [7 1 2 5 8 2 3 7 8 8]\n",
      " [8 1 8 4 1 7 4 5 3 7]\n",
      " [3 1 3 3 3 3 5 2 6 7]]\n"
     ]
    }
   ],
   "source": [
    "np_2 = np.random.randint(1, 9, size=(10, 10))\n",
    "\n",
    "print(np_2)"
   ],
   "metadata": {
    "collapsed": false,
    "pycharm": {
     "name": "#%%\n"
    }
   }
  },
  {
   "cell_type": "code",
   "execution_count": 5,
   "outputs": [
    {
     "name": "stdout",
     "output_type": "stream",
     "text": [
      "[[7 3 5 7 3 3 5 4 6 2]\n",
      " [3 2 8 6 7 7 2 5 7 6]\n",
      " [7 8 0 0 0 0 0 0 3 8]\n",
      " [1 1 0 0 0 0 0 0 8 1]\n",
      " [8 8 0 0 0 0 0 0 4 8]\n",
      " [5 8 0 0 0 0 0 0 8 2]\n",
      " [6 5 0 0 0 0 0 0 5 3]\n",
      " [7 1 0 0 0 0 0 0 8 8]\n",
      " [8 1 8 4 1 7 4 5 3 7]\n",
      " [3 1 3 3 3 3 5 2 6 7]]\n"
     ]
    }
   ],
   "source": [
    "np_2[2:-2, 2:-2] = 0\n",
    "\n",
    "print(np_2)"
   ],
   "metadata": {
    "collapsed": false,
    "pycharm": {
     "name": "#%%\n"
    }
   }
  },
  {
   "cell_type": "markdown",
   "source": [
    "# Statistik funksiyalar"
   ],
   "metadata": {
    "collapsed": false,
    "pycharm": {
     "name": "#%% md\n"
    }
   }
  },
  {
   "cell_type": "code",
   "execution_count": 6,
   "outputs": [
    {
     "name": "stdout",
     "output_type": "stream",
     "text": [
      "[[1 2 1 2 3]\n",
      " [3 1 2 2 2]\n",
      " [2 3 2 3 3]\n",
      " [1 2 2 1 2]\n",
      " [2 2 2 2 1]]\n"
     ]
    }
   ],
   "source": [
    "np_3 = np.random.randint(1, 4, size=(5, 5))\n",
    "\n",
    "print(np_3)"
   ],
   "metadata": {
    "collapsed": false,
    "pycharm": {
     "name": "#%%\n"
    }
   }
  },
  {
   "cell_type": "code",
   "execution_count": 7,
   "outputs": [
    {
     "data": {
      "text/plain": "49"
     },
     "execution_count": 7,
     "metadata": {},
     "output_type": "execute_result"
    }
   ],
   "source": [
    "np.sum(np_3)"
   ],
   "metadata": {
    "collapsed": false,
    "pycharm": {
     "name": "#%%\n"
    }
   }
  },
  {
   "cell_type": "code",
   "execution_count": 8,
   "outputs": [
    {
     "data": {
      "text/plain": "49"
     },
     "execution_count": 8,
     "metadata": {},
     "output_type": "execute_result"
    }
   ],
   "source": [
    "np_3.sum()"
   ],
   "metadata": {
    "collapsed": false,
    "pycharm": {
     "name": "#%%\n"
    }
   }
  },
  {
   "cell_type": "code",
   "execution_count": 9,
   "outputs": [
    {
     "name": "stdout",
     "output_type": "stream",
     "text": [
      "[ 9 10  9 10 11]\n"
     ]
    }
   ],
   "source": [
    "print(np.sum(np_3, axis=0))"
   ],
   "metadata": {
    "collapsed": false,
    "pycharm": {
     "name": "#%%\n"
    }
   }
  },
  {
   "cell_type": "code",
   "execution_count": 10,
   "outputs": [
    {
     "name": "stdout",
     "output_type": "stream",
     "text": [
      "[ 9 10 13  8  9]\n"
     ]
    }
   ],
   "source": [
    "print(np.sum(np_3, axis=1))"
   ],
   "metadata": {
    "collapsed": false,
    "pycharm": {
     "name": "#%%\n"
    }
   }
  },
  {
   "cell_type": "code",
   "execution_count": 11,
   "outputs": [
    {
     "data": {
      "text/plain": "2"
     },
     "execution_count": 11,
     "metadata": {},
     "output_type": "execute_result"
    }
   ],
   "source": [
    "np_3.ndim"
   ],
   "metadata": {
    "collapsed": false,
    "pycharm": {
     "name": "#%%\n"
    }
   }
  },
  {
   "cell_type": "code",
   "execution_count": 12,
   "outputs": [
    {
     "name": "stdout",
     "output_type": "stream",
     "text": [
      "[[[2 3 2 2]\n",
      "  [3 2 3 1]\n",
      "  [3 3 1 2]\n",
      "  [2 2 3 1]]\n",
      "\n",
      " [[3 2 2 2]\n",
      "  [2 1 1 3]\n",
      "  [3 3 1 1]\n",
      "  [1 3 2 1]]\n",
      "\n",
      " [[2 2 1 3]\n",
      "  [3 2 3 2]\n",
      "  [2 2 3 1]\n",
      "  [3 2 2 1]]\n",
      "\n",
      " [[1 3 1 1]\n",
      "  [3 1 1 2]\n",
      "  [3 2 2 1]\n",
      "  [1 2 3 1]]]\n"
     ]
    }
   ],
   "source": [
    "np_4 = np.random.randint(1, 4, size=(4, 4, 4))\n",
    "\n",
    "print(np_4)"
   ],
   "metadata": {
    "collapsed": false,
    "pycharm": {
     "name": "#%%\n"
    }
   }
  },
  {
   "cell_type": "code",
   "execution_count": 13,
   "outputs": [
    {
     "data": {
      "text/plain": "3"
     },
     "execution_count": 13,
     "metadata": {},
     "output_type": "execute_result"
    }
   ],
   "source": [
    "np_4.ndim"
   ],
   "metadata": {
    "collapsed": false,
    "pycharm": {
     "name": "#%%\n"
    }
   }
  },
  {
   "cell_type": "code",
   "execution_count": 14,
   "outputs": [
    {
     "name": "stdout",
     "output_type": "stream",
     "text": [
      "128\n"
     ]
    }
   ],
   "source": [
    "print(np.sum(np_4))"
   ],
   "metadata": {
    "collapsed": false,
    "pycharm": {
     "name": "#%%\n"
    }
   }
  },
  {
   "cell_type": "code",
   "execution_count": 15,
   "outputs": [
    {
     "name": "stdout",
     "output_type": "stream",
     "text": [
      "[[ 8 10  6  8]\n",
      " [11  6  8  8]\n",
      " [11 10  7  5]\n",
      " [ 7  9 10  4]]\n"
     ]
    }
   ],
   "source": [
    "print(np.sum(np_4, axis=0))"
   ],
   "metadata": {
    "collapsed": false,
    "pycharm": {
     "name": "#%%\n"
    }
   }
  },
  {
   "cell_type": "code",
   "execution_count": 18,
   "outputs": [
    {
     "name": "stdout",
     "output_type": "stream",
     "text": [
      "[[10 10  9  6]\n",
      " [ 9  9  6  7]\n",
      " [10  8  9  7]\n",
      " [ 8  8  7  5]]\n"
     ]
    }
   ],
   "source": [
    "print(np.sum(np_4, axis=1))"
   ],
   "metadata": {
    "collapsed": false,
    "pycharm": {
     "name": "#%%\n"
    }
   }
  },
  {
   "cell_type": "code",
   "execution_count": 19,
   "outputs": [
    {
     "name": "stdout",
     "output_type": "stream",
     "text": [
      "[[ 9  9  9  8]\n",
      " [ 9  7  8  7]\n",
      " [ 8 10  8  8]\n",
      " [ 6  7  8  7]]\n"
     ]
    }
   ],
   "source": [
    "print(np.sum(np_4, axis=2))"
   ],
   "metadata": {
    "collapsed": false,
    "pycharm": {
     "name": "#%%\n"
    }
   }
  },
  {
   "cell_type": "code",
   "execution_count": 21,
   "outputs": [
    {
     "name": "stdout",
     "output_type": "stream",
     "text": [
      "[[[2 3 2 2]\n",
      "  [3 2 3 1]\n",
      "  [3 3 1 2]\n",
      "  [2 2 3 1]]\n",
      "\n",
      " [[3 2 2 2]\n",
      "  [2 1 1 3]\n",
      "  [3 3 1 1]\n",
      "  [1 3 2 1]]\n",
      "\n",
      " [[2 2 1 3]\n",
      "  [3 2 3 2]\n",
      "  [2 2 3 1]\n",
      "  [3 2 2 1]]\n",
      "\n",
      " [[1 3 1 1]\n",
      "  [3 1 1 2]\n",
      "  [3 2 2 1]\n",
      "  [1 2 3 1]]]\n"
     ]
    }
   ],
   "source": [
    "print(np_4)"
   ],
   "metadata": {
    "collapsed": false,
    "pycharm": {
     "name": "#%%\n"
    }
   }
  },
  {
   "cell_type": "code",
   "execution_count": 20,
   "outputs": [
    {
     "data": {
      "text/plain": "2.0"
     },
     "execution_count": 20,
     "metadata": {},
     "output_type": "execute_result"
    }
   ],
   "source": [
    "np.mean(np_4)"
   ],
   "metadata": {
    "collapsed": false,
    "pycharm": {
     "name": "#%%\n"
    }
   }
  },
  {
   "cell_type": "code",
   "execution_count": 22,
   "outputs": [
    {
     "name": "stdout",
     "output_type": "stream",
     "text": [
      "[[2.   2.5  1.5  2.  ]\n",
      " [2.75 1.5  2.   2.  ]\n",
      " [2.75 2.5  1.75 1.25]\n",
      " [1.75 2.25 2.5  1.  ]]\n"
     ]
    }
   ],
   "source": [
    "print(np.mean(np_4, axis=0))"
   ],
   "metadata": {
    "collapsed": false,
    "pycharm": {
     "name": "#%%\n"
    }
   }
  },
  {
   "cell_type": "code",
   "execution_count": 23,
   "outputs": [
    {
     "name": "stdout",
     "output_type": "stream",
     "text": [
      "[[2.5  2.5  2.25 1.5 ]\n",
      " [2.25 2.25 1.5  1.75]\n",
      " [2.5  2.   2.25 1.75]\n",
      " [2.   2.   1.75 1.25]]\n"
     ]
    }
   ],
   "source": [
    "print(np.mean(np_4, axis=1))"
   ],
   "metadata": {
    "collapsed": false,
    "pycharm": {
     "name": "#%%\n"
    }
   }
  },
  {
   "cell_type": "code",
   "execution_count": 24,
   "outputs": [
    {
     "name": "stdout",
     "output_type": "stream",
     "text": [
      "[[2.25 2.25 2.25 2.  ]\n",
      " [2.25 1.75 2.   1.75]\n",
      " [2.   2.5  2.   2.  ]\n",
      " [1.5  1.75 2.   1.75]]\n"
     ]
    }
   ],
   "source": [
    "print(np.mean(np_4, axis=2))"
   ],
   "metadata": {
    "collapsed": false,
    "pycharm": {
     "name": "#%%\n"
    }
   }
  },
  {
   "cell_type": "code",
   "execution_count": 25,
   "outputs": [
    {
     "name": "stdout",
     "output_type": "stream",
     "text": [
      "[[[2 3 2 2]\n",
      "  [3 2 3 1]\n",
      "  [3 3 1 2]\n",
      "  [2 2 3 1]]\n",
      "\n",
      " [[3 2 2 2]\n",
      "  [2 1 1 3]\n",
      "  [3 3 1 1]\n",
      "  [1 3 2 1]]\n",
      "\n",
      " [[2 2 1 3]\n",
      "  [3 2 3 2]\n",
      "  [2 2 3 1]\n",
      "  [3 2 2 1]]\n",
      "\n",
      " [[1 3 1 1]\n",
      "  [3 1 1 2]\n",
      "  [3 2 2 1]\n",
      "  [1 2 3 1]]]\n"
     ]
    }
   ],
   "source": [
    "print(np_4)"
   ],
   "metadata": {
    "collapsed": false,
    "pycharm": {
     "name": "#%%\n"
    }
   }
  },
  {
   "cell_type": "code",
   "execution_count": 26,
   "outputs": [
    {
     "name": "stdout",
     "output_type": "stream",
     "text": [
      "[  2   5   7   9  12  14  17  18  21  24  25  27  29  31  34  35  38  40\n",
      "  42  44  46  47  48  51  54  57  58  59  60  63  65  66  68  70  71  74\n",
      "  77  79  82  84  86  88  91  92  95  97  99 100 101 104 105 106 109 110\n",
      " 111 113 116 118 120 121 122 124 127 128]\n"
     ]
    }
   ],
   "source": [
    "print(np.cumsum(np_4))"
   ],
   "metadata": {
    "collapsed": false,
    "pycharm": {
     "name": "#%%\n"
    }
   }
  },
  {
   "cell_type": "code",
   "execution_count": 27,
   "outputs": [
    {
     "name": "stdout",
     "output_type": "stream",
     "text": [
      "[[[ 2  3  2  2]\n",
      "  [ 3  2  3  1]\n",
      "  [ 3  3  1  2]\n",
      "  [ 2  2  3  1]]\n",
      "\n",
      " [[ 5  5  4  4]\n",
      "  [ 5  3  4  4]\n",
      "  [ 6  6  2  3]\n",
      "  [ 3  5  5  2]]\n",
      "\n",
      " [[ 7  7  5  7]\n",
      "  [ 8  5  7  6]\n",
      "  [ 8  8  5  4]\n",
      "  [ 6  7  7  3]]\n",
      "\n",
      " [[ 8 10  6  8]\n",
      "  [11  6  8  8]\n",
      "  [11 10  7  5]\n",
      "  [ 7  9 10  4]]]\n"
     ]
    }
   ],
   "source": [
    "print(np.cumsum(np_4, axis=0))"
   ],
   "metadata": {
    "collapsed": false,
    "pycharm": {
     "name": "#%%\n"
    }
   }
  },
  {
   "cell_type": "code",
   "execution_count": 30,
   "outputs": [
    {
     "name": "stdout",
     "output_type": "stream",
     "text": [
      "[[[ 2  3  2  2]\n",
      "  [ 5  5  5  3]\n",
      "  [ 8  8  6  5]\n",
      "  [10 10  9  6]]\n",
      "\n",
      " [[ 3  2  2  2]\n",
      "  [ 5  3  3  5]\n",
      "  [ 8  6  4  6]\n",
      "  [ 9  9  6  7]]\n",
      "\n",
      " [[ 2  2  1  3]\n",
      "  [ 5  4  4  5]\n",
      "  [ 7  6  7  6]\n",
      "  [10  8  9  7]]\n",
      "\n",
      " [[ 1  3  1  1]\n",
      "  [ 4  4  2  3]\n",
      "  [ 7  6  4  4]\n",
      "  [ 8  8  7  5]]]\n"
     ]
    }
   ],
   "source": [
    "print(np.cumsum(np_4, axis=1))"
   ],
   "metadata": {
    "collapsed": false,
    "pycharm": {
     "name": "#%%\n"
    }
   }
  },
  {
   "cell_type": "code",
   "execution_count": 31,
   "outputs": [
    {
     "name": "stdout",
     "output_type": "stream",
     "text": [
      "1\n"
     ]
    }
   ],
   "source": [
    "print(np.min(np_4))"
   ],
   "metadata": {
    "collapsed": false,
    "pycharm": {
     "name": "#%%\n"
    }
   }
  },
  {
   "cell_type": "code",
   "execution_count": 32,
   "outputs": [
    {
     "name": "stdout",
     "output_type": "stream",
     "text": [
      "[[1 2 1 1]\n",
      " [2 1 1 1]\n",
      " [2 2 1 1]\n",
      " [1 2 2 1]]\n"
     ]
    }
   ],
   "source": [
    "print(np.min(np_4, axis=0))"
   ],
   "metadata": {
    "collapsed": false,
    "pycharm": {
     "name": "#%%\n"
    }
   }
  },
  {
   "cell_type": "code",
   "execution_count": 33,
   "outputs": [
    {
     "name": "stdout",
     "output_type": "stream",
     "text": [
      "[[2 2 1 1]\n",
      " [1 1 1 1]\n",
      " [2 2 1 1]\n",
      " [1 1 1 1]]\n"
     ]
    }
   ],
   "source": [
    "print(np.min(np_4, axis=1))"
   ],
   "metadata": {
    "collapsed": false,
    "pycharm": {
     "name": "#%%\n"
    }
   }
  },
  {
   "cell_type": "code",
   "execution_count": 34,
   "outputs": [
    {
     "name": "stdout",
     "output_type": "stream",
     "text": [
      "[[2 1 1 1]\n",
      " [2 1 1 1]\n",
      " [1 2 1 1]\n",
      " [1 1 1 1]]\n"
     ]
    }
   ],
   "source": [
    "print(np.min(np_4, axis=2))"
   ],
   "metadata": {
    "collapsed": false,
    "pycharm": {
     "name": "#%%\n"
    }
   }
  },
  {
   "cell_type": "markdown",
   "source": [
    "# Sortlash"
   ],
   "metadata": {
    "collapsed": false,
    "pycharm": {
     "name": "#%% md\n"
    }
   }
  },
  {
   "cell_type": "code",
   "execution_count": 39,
   "outputs": [
    {
     "name": "stdout",
     "output_type": "stream",
     "text": [
      "[[[2 3 2 2]\n",
      "  [3 2 3 1]\n",
      "  [3 3 1 2]\n",
      "  [2 2 3 1]]\n",
      "\n",
      " [[3 2 2 2]\n",
      "  [2 1 1 3]\n",
      "  [3 3 1 1]\n",
      "  [1 3 2 1]]\n",
      "\n",
      " [[2 2 1 3]\n",
      "  [3 2 3 2]\n",
      "  [2 2 3 1]\n",
      "  [3 2 2 1]]\n",
      "\n",
      " [[1 3 1 1]\n",
      "  [3 1 1 2]\n",
      "  [3 2 2 1]\n",
      "  [1 2 3 1]]]\n"
     ]
    }
   ],
   "source": [
    "print(np_4)"
   ],
   "metadata": {
    "collapsed": false,
    "pycharm": {
     "name": "#%%\n"
    }
   }
  },
  {
   "cell_type": "code",
   "execution_count": 40,
   "outputs": [
    {
     "name": "stdout",
     "output_type": "stream",
     "text": [
      "[[[2 2 2 3]\n",
      "  [1 2 3 3]\n",
      "  [1 2 3 3]\n",
      "  [1 2 2 3]]\n",
      "\n",
      " [[2 2 2 3]\n",
      "  [1 1 2 3]\n",
      "  [1 1 3 3]\n",
      "  [1 1 2 3]]\n",
      "\n",
      " [[1 2 2 3]\n",
      "  [2 2 3 3]\n",
      "  [1 2 2 3]\n",
      "  [1 2 2 3]]\n",
      "\n",
      " [[1 1 1 3]\n",
      "  [1 1 2 3]\n",
      "  [1 2 2 3]\n",
      "  [1 1 2 3]]]\n"
     ]
    }
   ],
   "source": [
    "print(np.sort(np_4))"
   ],
   "metadata": {
    "collapsed": false,
    "pycharm": {
     "name": "#%%\n"
    }
   }
  },
  {
   "cell_type": "code",
   "execution_count": 41,
   "outputs": [
    {
     "name": "stdout",
     "output_type": "stream",
     "text": [
      "[[[1 2 1 1]\n",
      "  [2 1 1 1]\n",
      "  [2 2 1 1]\n",
      "  [1 2 2 1]]\n",
      "\n",
      " [[2 2 1 2]\n",
      "  [3 1 1 2]\n",
      "  [3 2 1 1]\n",
      "  [1 2 2 1]]\n",
      "\n",
      " [[2 3 2 2]\n",
      "  [3 2 3 2]\n",
      "  [3 3 2 1]\n",
      "  [2 2 3 1]]\n",
      "\n",
      " [[3 3 2 3]\n",
      "  [3 2 3 3]\n",
      "  [3 3 3 2]\n",
      "  [3 3 3 1]]]\n"
     ]
    }
   ],
   "source": [
    "print(np.sort(np_4, axis=0))"
   ],
   "metadata": {
    "collapsed": false,
    "pycharm": {
     "name": "#%%\n"
    }
   }
  },
  {
   "cell_type": "code",
   "execution_count": 43,
   "outputs": [
    {
     "name": "stdout",
     "output_type": "stream",
     "text": [
      "[[[2 2 1 1]\n",
      "  [2 2 2 1]\n",
      "  [3 3 3 2]\n",
      "  [3 3 3 2]]\n",
      "\n",
      " [[1 1 1 1]\n",
      "  [2 2 1 1]\n",
      "  [3 3 2 2]\n",
      "  [3 3 2 3]]\n",
      "\n",
      " [[2 2 1 1]\n",
      "  [2 2 2 1]\n",
      "  [3 2 3 2]\n",
      "  [3 2 3 3]]\n",
      "\n",
      " [[1 1 1 1]\n",
      "  [1 2 1 1]\n",
      "  [3 2 2 1]\n",
      "  [3 3 3 2]]]\n"
     ]
    }
   ],
   "source": [
    "print(np.sort(np_4, axis=1))"
   ],
   "metadata": {
    "collapsed": false,
    "pycharm": {
     "name": "#%%\n"
    }
   }
  },
  {
   "cell_type": "code",
   "execution_count": 44,
   "outputs": [
    {
     "name": "stdout",
     "output_type": "stream",
     "text": [
      "[[[2 2 2 3]\n",
      "  [1 2 3 3]\n",
      "  [1 2 3 3]\n",
      "  [1 2 2 3]]\n",
      "\n",
      " [[2 2 2 3]\n",
      "  [1 1 2 3]\n",
      "  [1 1 3 3]\n",
      "  [1 1 2 3]]\n",
      "\n",
      " [[1 2 2 3]\n",
      "  [2 2 3 3]\n",
      "  [1 2 2 3]\n",
      "  [1 2 2 3]]\n",
      "\n",
      " [[1 1 1 3]\n",
      "  [1 1 2 3]\n",
      "  [1 2 2 3]\n",
      "  [1 1 2 3]]]\n"
     ]
    }
   ],
   "source": [
    "print(np.sort(np_4, axis=2))"
   ],
   "metadata": {
    "collapsed": false,
    "pycharm": {
     "name": "#%%\n"
    }
   }
  },
  {
   "cell_type": "code",
   "execution_count": 45,
   "outputs": [
    {
     "name": "stdout",
     "output_type": "stream",
     "text": [
      "[[2 3 1 3]\n",
      " [4 4 4 2]\n",
      " [2 4 2 2]\n",
      " [1 2 2 3]]\n"
     ]
    }
   ],
   "source": [
    "np_5 = np.random.randint(1, 5, size=(4, 4))\n",
    "\n",
    "print(np_5)"
   ],
   "metadata": {
    "collapsed": false,
    "pycharm": {
     "name": "#%%\n"
    }
   }
  },
  {
   "cell_type": "code",
   "execution_count": 46,
   "outputs": [
    {
     "data": {
      "text/plain": "-27.999999999999996"
     },
     "execution_count": 46,
     "metadata": {},
     "output_type": "execute_result"
    }
   ],
   "source": [
    "np.linalg.det(np_5)"
   ],
   "metadata": {
    "collapsed": false,
    "pycharm": {
     "name": "#%%\n"
    }
   }
  },
  {
   "cell_type": "code",
   "execution_count": 50,
   "outputs": [
    {
     "name": "stdout",
     "output_type": "stream",
     "text": [
      "[[ 0.57142857  0.35714286 -0.57142857 -0.42857143]\n",
      " [-0.14285714 -0.21428571  0.64285714 -0.14285714]\n",
      " [-0.57142857  0.14285714  0.07142857  0.42857143]\n",
      " [ 0.28571429 -0.07142857 -0.28571429  0.28571429]]\n"
     ]
    }
   ],
   "source": [
    "print(np.linalg.inv(np_5))"
   ],
   "metadata": {
    "collapsed": false,
    "pycharm": {
     "name": "#%%\n"
    }
   }
  },
  {
   "cell_type": "code",
   "execution_count": 51,
   "outputs": [
    {
     "name": "stdout",
     "output_type": "stream",
     "text": [
      "[[ 0.57  0.36 -0.57 -0.43]\n",
      " [-0.14 -0.21  0.64 -0.14]\n",
      " [-0.57  0.14  0.07  0.43]\n",
      " [ 0.29 -0.07 -0.29  0.29]]\n"
     ]
    }
   ],
   "source": [
    "print(np.around(np.linalg.inv(np_5), 2))"
   ],
   "metadata": {
    "collapsed": false,
    "pycharm": {
     "name": "#%%\n"
    }
   }
  },
  {
   "cell_type": "code",
   "execution_count": 53,
   "outputs": [
    {
     "name": "stdout",
     "output_type": "stream",
     "text": [
      "[[ 1.02  0.02 -0.02  0.02]\n",
      " [ 0.02  1.02 -0.02  0.02]\n",
      " [ 0.02  0.02  0.98  0.02]\n",
      " [ 0.02  0.01 -0.02  1.02]]\n"
     ]
    }
   ],
   "source": [
    "print(np.dot(np_5, np.around(np.linalg.inv(np_5), 2)))"
   ],
   "metadata": {
    "collapsed": false,
    "pycharm": {
     "name": "#%%\n"
    }
   }
  },
  {
   "cell_type": "code",
   "execution_count": 54,
   "outputs": [
    {
     "name": "stdout",
     "output_type": "stream",
     "text": [
      "[[ 1.  0. -0.  0.]\n",
      " [ 0.  1. -0.  0.]\n",
      " [ 0.  0.  1.  0.]\n",
      " [ 0.  0. -0.  1.]]\n"
     ]
    }
   ],
   "source": [
    "print(np.around(np.dot(np_5, np.around(np.linalg.inv(np_5), 2)), 0))"
   ],
   "metadata": {
    "collapsed": false,
    "pycharm": {
     "name": "#%%\n"
    }
   }
  },
  {
   "cell_type": "code",
   "execution_count": 55,
   "outputs": [
    {
     "name": "stdout",
     "output_type": "stream",
     "text": [
      "[[1 3 1 3]\n",
      " [3 4 3 3]\n",
      " [4 2 2 3]\n",
      " [3 2 2 1]]\n"
     ]
    }
   ],
   "source": [
    "np_6 = np.random.randint(1, 5, size=(4, 4))\n",
    "\n",
    "print(np_6)"
   ],
   "metadata": {
    "collapsed": false,
    "pycharm": {
     "name": "#%%\n"
    }
   }
  },
  {
   "cell_type": "code",
   "execution_count": 57,
   "outputs": [
    {
     "data": {
      "text/plain": "[array([[1, 3, 1, 3],\n        [3, 4, 3, 3]]),\n array([[4, 2, 2, 3],\n        [3, 2, 2, 1]])]"
     },
     "execution_count": 57,
     "metadata": {},
     "output_type": "execute_result"
    }
   ],
   "source": [
    "np.split(np_6, 2)"
   ],
   "metadata": {
    "collapsed": false,
    "pycharm": {
     "name": "#%%\n"
    }
   }
  },
  {
   "cell_type": "code",
   "execution_count": 58,
   "outputs": [
    {
     "data": {
      "text/plain": "[array([[1, 3, 1, 3],\n        [3, 4, 3, 3]]),\n array([[4, 2, 2, 3],\n        [3, 2, 2, 1]])]"
     },
     "execution_count": 58,
     "metadata": {},
     "output_type": "execute_result"
    }
   ],
   "source": [
    "np.split(np_6, 2, axis=0)"
   ],
   "metadata": {
    "collapsed": false,
    "pycharm": {
     "name": "#%%\n"
    }
   }
  },
  {
   "cell_type": "code",
   "execution_count": 59,
   "outputs": [
    {
     "data": {
      "text/plain": "[array([[1, 3],\n        [3, 4],\n        [4, 2],\n        [3, 2]]),\n array([[1, 3],\n        [3, 3],\n        [2, 3],\n        [2, 1]])]"
     },
     "execution_count": 59,
     "metadata": {},
     "output_type": "execute_result"
    }
   ],
   "source": [
    "np.split(np_6, 2, axis=1)"
   ],
   "metadata": {
    "collapsed": false,
    "pycharm": {
     "name": "#%%\n"
    }
   }
  },
  {
   "cell_type": "code",
   "execution_count": 60,
   "outputs": [
    {
     "data": {
      "text/plain": "[array([[1, 3],\n        [3, 4],\n        [4, 2],\n        [3, 2]]),\n array([[1, 3],\n        [3, 3],\n        [2, 3],\n        [2, 1]])]"
     },
     "execution_count": 60,
     "metadata": {},
     "output_type": "execute_result"
    }
   ],
   "source": [
    "np.hsplit(np_6, 2)"
   ],
   "metadata": {
    "collapsed": false,
    "pycharm": {
     "name": "#%%\n"
    }
   }
  },
  {
   "cell_type": "code",
   "execution_count": 61,
   "outputs": [
    {
     "data": {
      "text/plain": "[array([[1, 3, 1, 3],\n        [3, 4, 3, 3]]),\n array([[4, 2, 2, 3],\n        [3, 2, 2, 1]])]"
     },
     "execution_count": 61,
     "metadata": {},
     "output_type": "execute_result"
    }
   ],
   "source": [
    "np.vsplit(np_6, 2)"
   ],
   "metadata": {
    "collapsed": false,
    "pycharm": {
     "name": "#%%\n"
    }
   }
  },
  {
   "cell_type": "code",
   "execution_count": 62,
   "outputs": [
    {
     "data": {
      "text/plain": "[array([[1, 3, 1, 3],\n        [3, 4, 3, 3]]),\n array([[4, 2, 2, 3]]),\n array([[3, 2, 2, 1]])]"
     },
     "execution_count": 62,
     "metadata": {},
     "output_type": "execute_result"
    }
   ],
   "source": [
    "np.array_split(np_6, 3)"
   ],
   "metadata": {
    "collapsed": false,
    "pycharm": {
     "name": "#%%\n"
    }
   }
  },
  {
   "cell_type": "code",
   "execution_count": 63,
   "outputs": [
    {
     "data": {
      "text/plain": "[array([[1, 3, 1, 3]]),\n array([[3, 4, 3, 3]]),\n array([[4, 2, 2, 3]]),\n array([[3, 2, 2, 1]]),\n array([], shape=(0, 4), dtype=int32)]"
     },
     "execution_count": 63,
     "metadata": {},
     "output_type": "execute_result"
    }
   ],
   "source": [
    "np.array_split(np_6, 5)"
   ],
   "metadata": {
    "collapsed": false,
    "pycharm": {
     "name": "#%%\n"
    }
   }
  },
  {
   "cell_type": "code",
   "execution_count": 64,
   "outputs": [
    {
     "data": {
      "text/plain": "[array([[1, 3],\n        [3, 4],\n        [4, 2],\n        [3, 2]]),\n array([[1],\n        [3],\n        [2],\n        [2]]),\n array([[3],\n        [3],\n        [3],\n        [1]])]"
     },
     "execution_count": 64,
     "metadata": {},
     "output_type": "execute_result"
    }
   ],
   "source": [
    "np.array_split(np_6, 3, axis=1)"
   ],
   "metadata": {
    "collapsed": false,
    "pycharm": {
     "name": "#%%\n"
    }
   }
  },
  {
   "cell_type": "code",
   "execution_count": 65,
   "outputs": [
    {
     "data": {
      "text/plain": "[array([[1],\n        [3],\n        [4],\n        [3]]),\n array([[3],\n        [4],\n        [2],\n        [2]]),\n array([[1],\n        [3],\n        [2],\n        [2]]),\n array([[3],\n        [3],\n        [3],\n        [1]]),\n array([], shape=(4, 0), dtype=int32)]"
     },
     "execution_count": 65,
     "metadata": {},
     "output_type": "execute_result"
    }
   ],
   "source": [
    "np.array_split(np_6, 5, axis=1)"
   ],
   "metadata": {
    "collapsed": false,
    "pycharm": {
     "name": "#%%\n"
    }
   }
  },
  {
   "cell_type": "code",
   "execution_count": 66,
   "outputs": [],
   "source": [
    "np_5 = np.array([1, 2, 3, 4])\n",
    "np_6 = np.array([5, 4, 2, 1])"
   ],
   "metadata": {
    "collapsed": false,
    "pycharm": {
     "name": "#%%\n"
    }
   }
  },
  {
   "cell_type": "code",
   "execution_count": 67,
   "outputs": [
    {
     "name": "stdout",
     "output_type": "stream",
     "text": [
      "[[1 2 3 4]\n",
      " [5 4 2 1]]\n"
     ]
    }
   ],
   "source": [
    "print(np.vstack((np_5, np_6)))"
   ],
   "metadata": {
    "collapsed": false,
    "pycharm": {
     "name": "#%%\n"
    }
   }
  },
  {
   "cell_type": "code",
   "execution_count": 68,
   "outputs": [
    {
     "name": "stdout",
     "output_type": "stream",
     "text": [
      "[1 2 3 4 5 4 2 1]\n"
     ]
    }
   ],
   "source": [
    "print(np.hstack((np_5, np_6)))"
   ],
   "metadata": {
    "collapsed": false,
    "pycharm": {
     "name": "#%%\n"
    }
   }
  },
  {
   "cell_type": "code",
   "execution_count": 69,
   "outputs": [
    {
     "name": "stdout",
     "output_type": "stream",
     "text": [
      "[1 2 3 4 5 4 2 1]\n"
     ]
    }
   ],
   "source": [
    "print(np.concatenate((np_5, np_6)))"
   ],
   "metadata": {
    "collapsed": false,
    "pycharm": {
     "name": "#%%\n"
    }
   }
  },
  {
   "cell_type": "code",
   "execution_count": 73,
   "outputs": [
    {
     "name": "stdout",
     "output_type": "stream",
     "text": [
      "[1 2 3 4 5 4 2 1]\n"
     ]
    }
   ],
   "source": [
    "print(np.append(np_5, np_6))"
   ],
   "metadata": {
    "collapsed": false,
    "pycharm": {
     "name": "#%%\n"
    }
   }
  },
  {
   "cell_type": "code",
   "execution_count": 74,
   "outputs": [],
   "source": [
    "np_7 = np.random.randint(1, 5, size=(3, 3))\n",
    "np_8 = np.random.randint(5, 8, size=(3, 3))"
   ],
   "metadata": {
    "collapsed": false,
    "pycharm": {
     "name": "#%%\n"
    }
   }
  },
  {
   "cell_type": "code",
   "execution_count": 75,
   "outputs": [
    {
     "name": "stdout",
     "output_type": "stream",
     "text": [
      "[[3 4 1]\n",
      " [3 4 1]\n",
      " [2 1 2]]\n"
     ]
    }
   ],
   "source": [
    "print(np_7)"
   ],
   "metadata": {
    "collapsed": false,
    "pycharm": {
     "name": "#%%\n"
    }
   }
  },
  {
   "cell_type": "code",
   "execution_count": 76,
   "outputs": [
    {
     "name": "stdout",
     "output_type": "stream",
     "text": [
      "[[6 6 5]\n",
      " [7 6 7]\n",
      " [5 5 6]]\n"
     ]
    }
   ],
   "source": [
    "print(np_8)"
   ],
   "metadata": {
    "collapsed": false,
    "pycharm": {
     "name": "#%%\n"
    }
   }
  },
  {
   "cell_type": "code",
   "execution_count": 77,
   "outputs": [
    {
     "name": "stdout",
     "output_type": "stream",
     "text": [
      "[[3 4 1]\n",
      " [3 4 1]\n",
      " [2 1 2]\n",
      " [6 6 5]\n",
      " [7 6 7]\n",
      " [5 5 6]]\n"
     ]
    }
   ],
   "source": [
    "print(np.vstack((np_7, np_8)))"
   ],
   "metadata": {
    "collapsed": false,
    "pycharm": {
     "name": "#%%\n"
    }
   }
  },
  {
   "cell_type": "code",
   "execution_count": 79,
   "outputs": [
    {
     "name": "stdout",
     "output_type": "stream",
     "text": [
      "[[3 4 1 6 6 5]\n",
      " [3 4 1 7 6 7]\n",
      " [2 1 2 5 5 6]]\n"
     ]
    }
   ],
   "source": [
    "print(np.hstack((np_7, np_8)))"
   ],
   "metadata": {
    "collapsed": false,
    "pycharm": {
     "name": "#%%\n"
    }
   }
  },
  {
   "cell_type": "code",
   "execution_count": 81,
   "outputs": [
    {
     "name": "stdout",
     "output_type": "stream",
     "text": [
      "[3 4 1 3 4 1 2 1 2 6 6 5 7 6 7 5 5 6]\n"
     ]
    }
   ],
   "source": [
    "print(np.append(np_7, np_8))"
   ],
   "metadata": {
    "collapsed": false,
    "pycharm": {
     "name": "#%%\n"
    }
   }
  },
  {
   "cell_type": "code",
   "execution_count": 82,
   "outputs": [
    {
     "name": "stdout",
     "output_type": "stream",
     "text": [
      "[[3 4 1]\n",
      " [3 4 1]\n",
      " [2 1 2]\n",
      " [6 6 5]\n",
      " [7 6 7]\n",
      " [5 5 6]]\n"
     ]
    }
   ],
   "source": [
    "print(np.append(np_7, np_8, axis=0))"
   ],
   "metadata": {
    "collapsed": false,
    "pycharm": {
     "name": "#%%\n"
    }
   }
  },
  {
   "cell_type": "code",
   "execution_count": 83,
   "outputs": [
    {
     "name": "stdout",
     "output_type": "stream",
     "text": [
      "[[3 4 1 6 6 5]\n",
      " [3 4 1 7 6 7]\n",
      " [2 1 2 5 5 6]]\n"
     ]
    }
   ],
   "source": [
    "print(np.append(np_7, np_8, axis=1))"
   ],
   "metadata": {
    "collapsed": false,
    "pycharm": {
     "name": "#%%\n"
    }
   }
  },
  {
   "cell_type": "code",
   "execution_count": 84,
   "outputs": [],
   "source": [
    "np_7 = np.random.randint(1, 5, size=(3, 1))\n",
    "np_8 = np.random.randint(5, 8, size=(3, 3))"
   ],
   "metadata": {
    "collapsed": false,
    "pycharm": {
     "name": "#%%\n"
    }
   }
  },
  {
   "cell_type": "code",
   "execution_count": 85,
   "outputs": [
    {
     "name": "stdout",
     "output_type": "stream",
     "text": [
      "[[1]\n",
      " [3]\n",
      " [2]]\n"
     ]
    }
   ],
   "source": [
    "print(np_7)"
   ],
   "metadata": {
    "collapsed": false,
    "pycharm": {
     "name": "#%%\n"
    }
   }
  },
  {
   "cell_type": "code",
   "execution_count": 86,
   "outputs": [
    {
     "name": "stdout",
     "output_type": "stream",
     "text": [
      "[[6 6 7]\n",
      " [7 7 7]\n",
      " [7 7 6]]\n"
     ]
    }
   ],
   "source": [
    "print(np_8)"
   ],
   "metadata": {
    "collapsed": false,
    "pycharm": {
     "name": "#%%\n"
    }
   }
  },
  {
   "cell_type": "code",
   "execution_count": 88,
   "outputs": [
    {
     "name": "stdout",
     "output_type": "stream",
     "text": [
      "[[1 6 6 7]\n",
      " [3 7 7 7]\n",
      " [2 7 7 6]]\n"
     ]
    }
   ],
   "source": [
    "print(np.hstack((np_7, np_8)))"
   ],
   "metadata": {
    "collapsed": false,
    "pycharm": {
     "name": "#%%\n"
    }
   }
  },
  {
   "cell_type": "code",
   "execution_count": 89,
   "outputs": [],
   "source": [
    "np_7 = np.random.randint(1, 5, size=(1, 3))\n",
    "np_8 = np.random.randint(5, 8, size=(3, 3))"
   ],
   "metadata": {
    "collapsed": false,
    "pycharm": {
     "name": "#%%\n"
    }
   }
  },
  {
   "cell_type": "code",
   "execution_count": 90,
   "outputs": [
    {
     "name": "stdout",
     "output_type": "stream",
     "text": [
      "[[1 4 2]]\n"
     ]
    }
   ],
   "source": [
    "print(np_7)"
   ],
   "metadata": {
    "collapsed": false,
    "pycharm": {
     "name": "#%%\n"
    }
   }
  },
  {
   "cell_type": "code",
   "execution_count": 91,
   "outputs": [
    {
     "name": "stdout",
     "output_type": "stream",
     "text": [
      "[[5 5 5]\n",
      " [6 6 5]\n",
      " [7 6 5]]\n"
     ]
    }
   ],
   "source": [
    "print(np_8)"
   ],
   "metadata": {
    "collapsed": false,
    "pycharm": {
     "name": "#%%\n"
    }
   }
  },
  {
   "cell_type": "code",
   "execution_count": 92,
   "outputs": [
    {
     "name": "stdout",
     "output_type": "stream",
     "text": [
      "[[1 4 2]\n",
      " [5 5 5]\n",
      " [6 6 5]\n",
      " [7 6 5]]\n"
     ]
    }
   ],
   "source": [
    "print(np.vstack((np_7, np_8)))"
   ],
   "metadata": {
    "collapsed": false,
    "pycharm": {
     "name": "#%%\n"
    }
   }
  },
  {
   "cell_type": "code",
   "execution_count": 93,
   "outputs": [],
   "source": [
    "np_7 = np.random.randint(1, 5, size=(3, 2))\n",
    "np_8 = np.random.randint(5, 8, size=3)"
   ],
   "metadata": {
    "collapsed": false,
    "pycharm": {
     "name": "#%%\n"
    }
   }
  },
  {
   "cell_type": "code",
   "execution_count": 94,
   "outputs": [
    {
     "name": "stdout",
     "output_type": "stream",
     "text": [
      "[[3 4]\n",
      " [4 1]\n",
      " [4 3]]\n"
     ]
    }
   ],
   "source": [
    "print(np_7)"
   ],
   "metadata": {
    "collapsed": false,
    "pycharm": {
     "name": "#%%\n"
    }
   }
  },
  {
   "cell_type": "code",
   "execution_count": 95,
   "outputs": [
    {
     "name": "stdout",
     "output_type": "stream",
     "text": [
      "[6 5 5]\n"
     ]
    }
   ],
   "source": [
    "print(np_8)"
   ],
   "metadata": {
    "collapsed": false,
    "pycharm": {
     "name": "#%%\n"
    }
   }
  },
  {
   "cell_type": "code",
   "execution_count": 99,
   "outputs": [
    {
     "name": "stdout",
     "output_type": "stream",
     "text": [
      "[[6]\n",
      " [5]\n",
      " [5]]\n"
     ]
    }
   ],
   "source": [
    "print(np_8[:, None])"
   ],
   "metadata": {
    "collapsed": false,
    "pycharm": {
     "name": "#%%\n"
    }
   }
  },
  {
   "cell_type": "code",
   "execution_count": 97,
   "outputs": [
    {
     "name": "stdout",
     "output_type": "stream",
     "text": [
      "[[3 4 6]\n",
      " [4 1 5]\n",
      " [4 3 5]]\n"
     ]
    }
   ],
   "source": [
    "print(np.hstack((np_7, np_8[:, None])))"
   ],
   "metadata": {
    "collapsed": false,
    "pycharm": {
     "name": "#%%\n"
    }
   }
  },
  {
   "cell_type": "code",
   "execution_count": 101,
   "outputs": [
    {
     "name": "stdout",
     "output_type": "stream",
     "text": [
      "[[3 4 6]\n",
      " [4 1 5]\n",
      " [4 3 5]]\n"
     ]
    }
   ],
   "source": [
    "print(np.column_stack((np_7, np_8)))"
   ],
   "metadata": {
    "collapsed": false,
    "pycharm": {
     "name": "#%%\n"
    }
   }
  },
  {
   "cell_type": "code",
   "execution_count": 103,
   "outputs": [
    {
     "name": "stdout",
     "output_type": "stream",
     "text": [
      "[[3 4 4]\n",
      " [4 1 3]\n",
      " [6 5 5]]\n"
     ]
    }
   ],
   "source": [
    "print(np.row_stack((np_7.T, np_8)))"
   ],
   "metadata": {
    "collapsed": false,
    "pycharm": {
     "name": "#%%\n"
    }
   }
  },
  {
   "cell_type": "code",
   "execution_count": 116,
   "outputs": [],
   "source": [
    "arr = np.arange(5)\n",
    "np.save('data', arr)"
   ],
   "metadata": {
    "collapsed": false,
    "pycharm": {
     "name": "#%%\n"
    }
   }
  },
  {
   "cell_type": "code",
   "execution_count": 117,
   "outputs": [],
   "source": [
    "arr = np.arange(5)\n",
    "np.save('data1.npy', arr)"
   ],
   "metadata": {
    "collapsed": false,
    "pycharm": {
     "name": "#%%\n"
    }
   }
  },
  {
   "cell_type": "code",
   "execution_count": 118,
   "outputs": [],
   "source": [
    "arr = np.arange(5)\n",
    "arr1 = np.arange(6, 10)\n",
    "\n",
    "np.savez('data3', arr, arr1)"
   ],
   "metadata": {
    "collapsed": false,
    "pycharm": {
     "name": "#%%\n"
    }
   }
  },
  {
   "cell_type": "code",
   "execution_count": 119,
   "outputs": [
    {
     "data": {
      "text/plain": "<numpy.lib.npyio.NpzFile at 0x1f5ff884fd0>"
     },
     "execution_count": 119,
     "metadata": {},
     "output_type": "execute_result"
    }
   ],
   "source": [
    "np.load('data3.npz')"
   ],
   "metadata": {
    "collapsed": false,
    "pycharm": {
     "name": "#%%\n"
    }
   }
  },
  {
   "cell_type": "code",
   "execution_count": 120,
   "outputs": [
    {
     "data": {
      "text/plain": "['arr_0', 'arr_1']"
     },
     "execution_count": 120,
     "metadata": {},
     "output_type": "execute_result"
    }
   ],
   "source": [
    "np.load('data3.npz').files"
   ],
   "metadata": {
    "collapsed": false,
    "pycharm": {
     "name": "#%%\n"
    }
   }
  },
  {
   "cell_type": "code",
   "execution_count": 121,
   "outputs": [
    {
     "name": "stdout",
     "output_type": "stream",
     "text": [
      "[0 1 2 3 4]\n"
     ]
    }
   ],
   "source": [
    "print(np.load('data3.npz')['arr_0'])"
   ],
   "metadata": {
    "collapsed": false,
    "pycharm": {
     "name": "#%%\n"
    }
   }
  },
  {
   "cell_type": "code",
   "execution_count": 122,
   "outputs": [
    {
     "name": "stdout",
     "output_type": "stream",
     "text": [
      "[6 7 8 9]\n"
     ]
    }
   ],
   "source": [
    "print(np.load('data3.npz')['arr_1'])"
   ],
   "metadata": {
    "collapsed": false,
    "pycharm": {
     "name": "#%%\n"
    }
   }
  },
  {
   "cell_type": "code",
   "execution_count": 123,
   "outputs": [],
   "source": [
    "arr = np.arange(5)\n",
    "arr1 = np.arange(6, 10)\n",
    "\n",
    "np.savez_compressed('data4', arr, arr1)"
   ],
   "metadata": {
    "collapsed": false,
    "pycharm": {
     "name": "#%%\n"
    }
   }
  },
  {
   "cell_type": "code",
   "execution_count": 124,
   "outputs": [
    {
     "name": "stdout",
     "output_type": "stream",
     "text": [
      "[0 1 2 3 4]\n"
     ]
    }
   ],
   "source": [
    "print(np.load('data1.npy'))"
   ],
   "metadata": {
    "collapsed": false,
    "pycharm": {
     "name": "#%%\n"
    }
   }
  },
  {
   "cell_type": "code",
   "execution_count": 125,
   "outputs": [
    {
     "name": "stdout",
     "output_type": "stream",
     "text": [
      "<numpy.lib.npyio.NpzFile object at 0x000001F58747CBB0>\n"
     ]
    }
   ],
   "source": [
    "print(np.load('data3.npz'))"
   ],
   "metadata": {
    "collapsed": false,
    "pycharm": {
     "name": "#%%\n"
    }
   }
  },
  {
   "cell_type": "code",
   "execution_count": 126,
   "outputs": [],
   "source": [
    "arrs = np.load('data3.npz')"
   ],
   "metadata": {
    "collapsed": false,
    "pycharm": {
     "name": "#%%\n"
    }
   }
  },
  {
   "cell_type": "code",
   "execution_count": 127,
   "outputs": [
    {
     "data": {
      "text/plain": "<numpy.lib.npyio.NpzFile at 0x1f5ff884580>"
     },
     "execution_count": 127,
     "metadata": {},
     "output_type": "execute_result"
    }
   ],
   "source": [
    "arrs"
   ],
   "metadata": {
    "collapsed": false,
    "pycharm": {
     "name": "#%%\n"
    }
   }
  },
  {
   "cell_type": "code",
   "execution_count": 128,
   "outputs": [
    {
     "data": {
      "text/plain": "['arr_0', 'arr_1']"
     },
     "execution_count": 128,
     "metadata": {},
     "output_type": "execute_result"
    }
   ],
   "source": [
    "arrs.files"
   ],
   "metadata": {
    "collapsed": false,
    "pycharm": {
     "name": "#%%\n"
    }
   }
  },
  {
   "cell_type": "code",
   "execution_count": 129,
   "outputs": [
    {
     "name": "stdout",
     "output_type": "stream",
     "text": [
      "[0 1 2 3 4]\n"
     ]
    }
   ],
   "source": [
    "print(arrs['arr_0'])"
   ],
   "metadata": {
    "collapsed": false,
    "pycharm": {
     "name": "#%%\n"
    }
   }
  },
  {
   "cell_type": "code",
   "execution_count": 130,
   "outputs": [
    {
     "name": "stdout",
     "output_type": "stream",
     "text": [
      "[6 7 8 9]\n"
     ]
    }
   ],
   "source": [
    "print(arrs['arr_1'])"
   ],
   "metadata": {
    "collapsed": false,
    "pycharm": {
     "name": "#%%\n"
    }
   }
  },
  {
   "cell_type": "code",
   "execution_count": 131,
   "outputs": [],
   "source": [
    "arrs_2 = np.load(\"data4.npz\")"
   ],
   "metadata": {
    "collapsed": false,
    "pycharm": {
     "name": "#%%\n"
    }
   }
  },
  {
   "cell_type": "code",
   "execution_count": 132,
   "outputs": [
    {
     "data": {
      "text/plain": "<numpy.lib.npyio.NpzFile at 0x1f5874642b0>"
     },
     "execution_count": 132,
     "metadata": {},
     "output_type": "execute_result"
    }
   ],
   "source": [
    "arrs_2"
   ],
   "metadata": {
    "collapsed": false,
    "pycharm": {
     "name": "#%%\n"
    }
   }
  },
  {
   "cell_type": "code",
   "execution_count": 134,
   "outputs": [
    {
     "data": {
      "text/plain": "['arr_0', 'arr_1']"
     },
     "execution_count": 134,
     "metadata": {},
     "output_type": "execute_result"
    }
   ],
   "source": [
    "arrs_2.files"
   ],
   "metadata": {
    "collapsed": false,
    "pycharm": {
     "name": "#%%\n"
    }
   }
  },
  {
   "cell_type": "code",
   "execution_count": 135,
   "outputs": [],
   "source": [
    "np_1 = np.arange(1, 6)\n",
    "np_2 = np.arange(6, 10)\n",
    "\n",
    "np.savez('data5', a=np_1, b=np_2)"
   ],
   "metadata": {
    "collapsed": false,
    "pycharm": {
     "name": "#%%\n"
    }
   }
  },
  {
   "cell_type": "code",
   "execution_count": 136,
   "outputs": [],
   "source": [
    "arrs_3 = np.load('data5.npz')"
   ],
   "metadata": {
    "collapsed": false,
    "pycharm": {
     "name": "#%%\n"
    }
   }
  },
  {
   "cell_type": "code",
   "execution_count": 137,
   "outputs": [
    {
     "data": {
      "text/plain": "<numpy.lib.npyio.NpzFile at 0x1f587477100>"
     },
     "execution_count": 137,
     "metadata": {},
     "output_type": "execute_result"
    }
   ],
   "source": [
    "arrs_3"
   ],
   "metadata": {
    "collapsed": false,
    "pycharm": {
     "name": "#%%\n"
    }
   }
  },
  {
   "cell_type": "code",
   "execution_count": 138,
   "outputs": [
    {
     "data": {
      "text/plain": "['a', 'b']"
     },
     "execution_count": 138,
     "metadata": {},
     "output_type": "execute_result"
    }
   ],
   "source": [
    "arrs_3.files"
   ],
   "metadata": {
    "collapsed": false,
    "pycharm": {
     "name": "#%%\n"
    }
   }
  },
  {
   "cell_type": "code",
   "execution_count": 139,
   "outputs": [
    {
     "name": "stdout",
     "output_type": "stream",
     "text": [
      "[1 2 3 4 5]\n"
     ]
    }
   ],
   "source": [
    "print(arrs_3['a'])"
   ],
   "metadata": {
    "collapsed": false,
    "pycharm": {
     "name": "#%%\n"
    }
   }
  },
  {
   "cell_type": "code",
   "execution_count": 140,
   "outputs": [
    {
     "name": "stdout",
     "output_type": "stream",
     "text": [
      "[6 7 8 9]\n"
     ]
    }
   ],
   "source": [
    "print(arrs_3['b'])"
   ],
   "metadata": {
    "collapsed": false,
    "pycharm": {
     "name": "#%%\n"
    }
   }
  },
  {
   "cell_type": "code",
   "execution_count": null,
   "outputs": [],
   "source": [],
   "metadata": {
    "collapsed": false,
    "pycharm": {
     "name": "#%%\n"
    }
   }
  }
 ],
 "metadata": {
  "kernelspec": {
   "display_name": "Python 3",
   "language": "python",
   "name": "python3"
  },
  "language_info": {
   "codemirror_mode": {
    "name": "ipython",
    "version": 2
   },
   "file_extension": ".py",
   "mimetype": "text/x-python",
   "name": "python",
   "nbconvert_exporter": "python",
   "pygments_lexer": "ipython2",
   "version": "2.7.6"
  }
 },
 "nbformat": 4,
 "nbformat_minor": 0
}